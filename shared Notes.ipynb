{
 "cells": [
  {
   "cell_type": "markdown",
   "metadata": {},
   "source": [
    "# Geometric Brownian Motion\n",
    "\\begin{equation}\n",
    "S(t) = S(0)e^{(\\mu - \\frac{\\sigma ^2}{2} + \\sigma W(t))}\n",
    "\\end{equation}\n",
    "Thus, we can say\n",
    "$$\n",
    "S(1) = S(0)e^{(\\mu - \\frac{\\sigma ^2}{2} + \\sigma W(1))} \\\\\n",
    "S(2) = S(0)e^{(\\mu - \\frac{\\sigma ^2}{2} + \\sigma W(2))}\n",
    "$$\n",
    "\n",
    "If I have two spending at time 0 and time 1, say $d_0$ and $d_1$, then the future value at time 2 of these two cash flows are:\n",
    "\\begin{align*}\n",
    "d_0(2) &= d_0 * e^{(\\mu - \\frac{\\sigma ^2}{2} + \\sigma W(2))}\\\\\n",
    "d_1(2) &= d_1 * \\frac{S(2)}{S(1)} \\\\\n",
    "&= d_1 * e^{(\\sigma W(2) - \\sigma W(1))} \\\\\n",
    "&= d_1 * e^{\\sigma * N(0,1)}\n",
    "\\end{align*}\n",
    "\n",
    "The last step is given by the brownian motion property: $W(t) - W(s) = N(0, t-s)$\n",
    "\n",
    "Amazingly, $d_1(2)\\neq d_1 e^{(\\mu - \\frac{\\sigma ^2}{2} + \\sigma W(1))}$\n",
    "Double check $d_0(2)$:\n",
    "\\begin{align*}\n",
    "d_0(2) &= d_0 * \\frac{S(1)}{S(0)}* \\frac{S(2)}{S(1)} \\\\\n",
    " &=d_0 * e^{(\\mu - \\frac{\\sigma ^2}{2} + \\sigma W(1))} * e^{(\\sigma W(2) - \\sigma W(1))} \\\\\n",
    " & = d_0 * e^{(\\mu - \\frac{\\sigma ^2}{2} + \\sigma W(2))}\n",
    "\\end{align*}\n",
    "It always has the term $\\mu - \\frac{\\sigma ^2}{2}$. However, this term is missing for later cashflows.\n",
    "\n",
    "\n",
    "If the above calculation is correct, then the way we generate random returns and the way we calculate future values are wrong."
   ]
  },
  {
   "cell_type": "code",
   "execution_count": null,
   "metadata": {},
   "outputs": [],
   "source": []
  }
 ],
 "metadata": {
  "kernelspec": {
   "display_name": "R",
   "language": "R",
   "name": "ir"
  },
  "language_info": {
   "codemirror_mode": "r",
   "file_extension": ".r",
   "mimetype": "text/x-r-source",
   "name": "R",
   "pygments_lexer": "r",
   "version": "3.4.4"
  }
 },
 "nbformat": 4,
 "nbformat_minor": 2
}
